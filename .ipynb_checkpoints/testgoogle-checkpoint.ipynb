{
 "cells": [
  {
   "cell_type": "code",
   "execution_count": null,
   "metadata": {},
   "outputs": [],
   "source": [
    "import librosa\n",
    "from google.cloud import storage\n",
    "import pandas as pd\n",
    "\n",
    "storage_client = storage.Client()\n",
    "\n",
    "bucket = storage_client.get_bucket('genredataset')\n",
    "\n",
    "blob = bucket.get_blob(\"data.csv\")\n",
    "\n",
    "#print(blob.download_as_string())\n",
    "\n",
    "\n",
    "\n",
    "#path = blob.path\n",
    "\n",
    "#x , sr = librosa.load(path, sr=None)\n",
    "\n",
    "#librosa.output.write_wav('testsongs/example1.wav', x, sr)\n",
    "\n",
    "path = \"gs://genredataset/data.csv\"\n",
    "\n",
    "data = pd.read_csv(path)\n",
    "print(\"got here\")\n",
    "\n",
    "\n",
    "\"\"\"\n",
    "\n",
    "print(type(x), type(sr))\n",
    "print(x.shape, sr)\n",
    "\n",
    "\n",
    "plt.figure(figsize=(14, 5))\n",
    "librosa.display.waveplot(x, sr=sr)\n",
    "\n",
    "X = librosa.stft(x)\n",
    "Xdb = librosa.amplitude_to_db(abs(X))\n",
    "plt.figure(figsize=(14, 5))\n",
    "librosa.display.specshow(Xdb, sr=sr, x_axis='time', y_axis='log')\n",
    "plt.colorbar()\n",
    "\n",
    "sr = 22050 # sample rate\n",
    "T = 5.0    # seconds\n",
    "t = np.linspace(0, T, int(T*sr), endpoint=False) # time variable\n",
    "x = 0.5*np.sin(2*np.pi*220*t)# pure sine wave at 220 Hz\n",
    "\n",
    "ipd.Audio(path_of_audio)\n",
    "\"\"\""
   ]
  },
  {
   "cell_type": "code",
   "execution_count": null,
   "metadata": {},
   "outputs": [],
   "source": [
    "\n",
    "\n"
   ]
  },
  {
   "cell_type": "code",
   "execution_count": null,
   "metadata": {},
   "outputs": [],
   "source": []
  }
 ],
 "metadata": {
  "kernelspec": {
   "display_name": "Python 3",
   "language": "python",
   "name": "python3"
  },
  "language_info": {
   "codemirror_mode": {
    "name": "ipython",
    "version": 3
   },
   "file_extension": ".py",
   "mimetype": "text/x-python",
   "name": "python",
   "nbconvert_exporter": "python",
   "pygments_lexer": "ipython3",
   "version": "3.6.7"
  }
 },
 "nbformat": 4,
 "nbformat_minor": 2
}
